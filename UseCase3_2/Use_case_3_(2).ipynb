{
  "cells": [
    {
      "cell_type": "markdown",
      "metadata": {
        "id": "m5NLVFuZgWoA"
      },
      "source": [
        "## OPTECH. Use Case 1\n",
        "### Phase 1\n",
        "#### Based on paper: X. Liu, B. Wang  and Z. Yang, \"Virtual Network Embedding Based on Topology Potential, \" Entropy 2018, 20(12), 941."
      ]
    },
    {
      "cell_type": "code",
      "execution_count": null,
      "metadata": {
        "id": "ujvYlAKTgWoC"
      },
      "outputs": [],
      "source": [
        "# Libraries needed\n",
        "import networkx as nx\n",
        "import math\n",
        "import random\n",
        "import numpy as np\n",
        "import time\n",
        "import matplotlib.pyplot as plt\n",
        "import pandas as pd\n",
        "\n",
        "\n",
        "import pickle\n",
        "import sqlite3"
      ]
    },
    {
      "cell_type": "code",
      "source": [
        "!pip install Pyomo\n",
        "!apt-get install -y -qq glpk-utils"
      ],
      "metadata": {
        "colab": {
          "base_uri": "https://localhost:8080/"
        },
        "id": "lixIB8L2mWTs",
        "outputId": "3cd3336d-a4ce-47e2-bc9e-ede55ed6647d"
      },
      "execution_count": null,
      "outputs": [
        {
          "output_type": "stream",
          "name": "stdout",
          "text": [
            "Requirement already satisfied: Pyomo in /usr/local/lib/python3.10/dist-packages (6.8.2)\n",
            "Requirement already satisfied: ply in /usr/local/lib/python3.10/dist-packages (from Pyomo) (3.11)\n"
          ]
        }
      ]
    },
    {
      "cell_type": "code",
      "source": [
        "from pyomo.environ import *\n",
        "from pyomo.opt import SolverFactory\n",
        "from pyomo.core import Var"
      ],
      "metadata": {
        "id": "-YAN_xmHmdMP"
      },
      "execution_count": null,
      "outputs": []
    },
    {
      "cell_type": "markdown",
      "metadata": {
        "id": "spHjsKingWoD"
      },
      "source": [
        "## SCENARIO\n"
      ]
    },
    {
      "cell_type": "markdown",
      "metadata": {
        "id": "-iaXAmNZgWoD"
      },
      "source": [
        "## MODEL"
      ]
    },
    {
      "cell_type": "code",
      "execution_count": null,
      "metadata": {
        "id": "EsqJCED2gWoE"
      },
      "outputs": [],
      "source": [
        "# Create a mathematical model (MILP)\n",
        "model = ConcreteModel()\n",
        "\n",
        "# S: set of switches\n",
        "model.S = Set(initialize=['s{}'.format(i) for i in range(1,11)])\n",
        "# C: set of controller types\n",
        "model.C = Set(initialize=['c1','c2','c3','c4'])\n",
        "# L: set of link types\n",
        "model.L = Set(initialize=['l1','l2','l3'])\n",
        "# P: set of possible locations to install the controllers\n",
        "model.P = Set(initialize=['p1','p2','p3','p4','p5','p6','p7','p8','p9','p10'])\n",
        "\n",
        "#################\n",
        "## Parameters  ##\n",
        "#################\n",
        "alpha_values = {'c1':8, 'c2':32, 'c3':64, 'c4':128}\n",
        "\n",
        "mu_values    = {'c1':2500, 'c2':4000, 'c3':8000, 'c4':15000}\n",
        "\n",
        "k_values = {'c1':1200, 'c2':2500, 'c3':6500, 'c4':12000}\n",
        "\n",
        "phi_c_values = {'c1':20, 'c2':15, 'c3':10, 'c4':6}\n",
        "\n",
        "sigma_values = {}\n",
        "for s in model.S:\n",
        "    sigma_values[s] = random.randint(100, 999)\n",
        "\n",
        "# σ^s: number of packets sent to the controller by switch s\n",
        "model.sigma = Param(model.S, initialize=sigma_values)\n",
        "\n",
        "# α^c: number of ports available for each controller type c ∈ C:\n",
        "model.alpha = Param(model.C, initialize=alpha_values)\n",
        "\n",
        "# μ^c: number of packets/second that a controller of type c can process\n",
        "model.mu = Param(model.C, initialize=mu_values)\n",
        "\n",
        "# κ^c: price ($) of a controller type c\n",
        "model.k = Param(model.C, initialize=k_values)\n",
        "\n",
        "# φ^c: number of available controllers of type c\n",
        "model.phi_c = Param(model.C, initialize=phi_c_values)\n",
        "\n",
        "#Link Parameters\n",
        "omega_values = {'l1':100, 'l2':1000, 'l3':10000}\n",
        "phi_l_values = {'l1':0.25, 'l2':0.63, 'l3':29}\n",
        "model.omega = Param(model.L, initialize=omega_values)\n",
        "model.phi_l = Param(model.L, initialize=phi_l_values)\n",
        "\n",
        "#################\n",
        "## Constants  ##\n",
        "#################\n",
        "\n",
        "# β: packet size (in bytes) for each packet sent to the controller\n",
        "model.beta = Param(initialize= 150)\n",
        "\n",
        "# γ: maximum delay (in ms) allowed in the network for flow-setup\n",
        "model.gamma = Param(initialize= 250)\n",
        "\n",
        "# δ: average time (in ms) taken to process a packet by any controller\n",
        "model.delta = Param(initialize= 0.001)\n",
        "################\n",
        "## Variables  ##\n",
        "################\n",
        "\n",
        "# x_cp: binary variable = 1 if a controller of type c is installed at location p\n",
        "model.x = Var(model.C, model.P, within=Binary, initialize=0)\n",
        "\n",
        "# v_sp^l: binary variable = 1 if a link of type l is installed between switch s and controller at location p\n",
        "model.v = Var(model.S, model.P, model.L, within=Binary, initialize=0)\n",
        "\n",
        "# z_pq^l: binary variable = 1 if location p is connected to location q with a link type l\n",
        "model.z = Var(model.P, model.P, model.L, within=Binary, initialize=0)\n",
        "\n",
        "###############\n",
        "## DISTANCIA ##\n",
        "###############\n",
        "switch_coords = {\n",
        "    's1': (0,0), 's2': (1,0), 's3': (2,0), 's4': (3,0), 's5': (4,0),\n",
        "    's6': (0,1), 's7': (1,1), 's8': (2,1), 's9': (3,1), 's10':(4,1)\n",
        "}\n",
        "location_coords = {\n",
        "    'p1':(0,2), 'p2':(1,2), 'p3':(2,2), 'p4':(3,2), 'p5':(3,2), 'p6':(2,1), 'p7':(1,4), 'p8':(4,3), 'p9':(3,3), 'p10':(1,1)\n",
        "}\n",
        "\n",
        "\n",
        "def euclidean_dist(a, b):\n",
        "    return math.sqrt((a[0]-b[0])**2+(a[1]-b[1])**2)\n",
        "\n",
        "# Initialize dist(s,p)???????????????????\n",
        "dist_sp_init = {}\n",
        "for s in model.S:\n",
        "    for p in model.P:\n",
        "        dist_sp_init[(s,p)] = euclidean_dist(switch_coords[s], location_coords[p])\n",
        "\n",
        "# Initialize dist(p,q)?????????????\n",
        "dist_pq_init = {}\n",
        "for p in model.P:\n",
        "    for q in model.P:\n",
        "        if p != q:\n",
        "            dist_pq_init[(p,q)] = euclidean_dist(location_coords[p], location_coords[q])\n",
        "\n",
        "model.dist_sp = Param(model.S, model.P, initialize=dist_sp_init)\n",
        "model.dist_pq = Param(model.P, model.P, within=Any, default=0, initialize=dist_pq_init)\n",
        "\n",
        "############\n",
        "## MODEL  ##\n",
        "############\n",
        "\n",
        "# COST FUNCTIONS\n",
        "\n",
        "# OBJECTIVE FUNCION\n",
        "def Objective_rule(model):\n",
        "\n",
        "    Cc = sum(model.k[c]*model.x[c,p] for c in model.C for p in model.P)\n",
        "    Cl = sum(model.phi_l[l]*model.dist_sp[s,p]*model.v[s,p,l] for l in model.L for s in model.S for p in model.P)\n",
        "    Ct = sum(model.phi_l[l]*model.dist_pq[p,q]*model.z[p,q,l] for l in model.L for p in model.P for q in model.P if p<q)\n",
        "\n",
        "    return Cc + Cl + Ct\n",
        "\n",
        "model.Objective = Objective(rule=Objective_rule, sense=minimize)\n",
        "\n",
        "\n",
        "# CONSTRAINTS\n",
        "'''CONSTRAINT 1 '''\n",
        "def C1_rule(model, p):\n",
        "    return sum(model.x[c,p] for c in model.C) <= 1\n",
        "model.C1 = Constraint(model.P, rule=C1_rule)\n",
        "\n",
        "'''CONSTRAINT 2 '''\n",
        "def C2_rule(model, p): #linealizar model.alpha*model.x\n",
        "    return sum(model.z[p,q,l] + model.z[q,p,l] for q in model.P for l in model.L if q != p) + sum(model.v[s,p,l] for s in model.S for l in model.L) <= sum(model.alpha[c]* model.x[c,p] for c in model.C)\n",
        "model.C2 = Constraint(model.P, rule=C2_rule)\n",
        "'''CONSTRAINT 3 '''\n",
        "def C3_rule(model, s):\n",
        "    return sum(model.v[s,p,l] for l in model.L for p in model.P) == 1\n",
        "model.C3 = Constraint(model.S, rule=C3_rule)\n",
        "'''CONSTRAINT 4 '''\n",
        "def C4_rule(model, p):\n",
        "        return sum(model.sigma[s]*model.v[s,p,l] for s in model.S for l in model.L) <= sum(model.mu[c]*model.x[c,p] for c in model.C)\n",
        "model.C4 = Constraint(model.P, rule=C4_rule)\n",
        "'''CONSTRAINT 5 '''\n",
        "def C5_rule(model, c):\n",
        "    return sum(model.x[c,p] for p in model.P) <= model.phi_c[c]\n",
        "model.C5 = Constraint(model.C, rule=C5_rule)\n",
        "'''CONSTRAINT 6 '''\n",
        "def C6_rule(model, s): # asumo 1Mbps\n",
        "    return sum(model.omega[l]*125000*model.v[s,p,l] for p in model.P for l in model.L) >= model.sigma[s]*model.beta\n",
        "model.C6 = Constraint(model.S, rule=C6_rule)\n",
        "'''CONSTRAINT 7 '''\n",
        "def C7_rule(model, s):\n",
        "    return sum((2*((model.beta.value*8*1000)/(model.omega[l]*1e6)) + 2*(model.dist_sp[s,p]/2e5) + model.delta)*model.v[s,p,l]for p in model.P for l in model.L) <= model.gamma\n",
        "model.C7 = Constraint(model.S, rule=C7_rule)\n",
        "'''CONSTRAINT 8 '''\n",
        "def C8_rule(model, p, q):\n",
        "    if p < q:\n",
        "        return sum(model.x[c,p] for c in model.C)+ sum(model.x[c,q] for c in model.C) <= sum(model.z[p,q,l] for l in model.L) + sum(model.z[q,p,l] for l in model.L) + 1\n",
        "    else:\n",
        "        return Constraint.Skip\n",
        "model.C8 = Constraint(model.P, model.P, rule=C8_rule)\n"
      ]
    },
    {
      "cell_type": "markdown",
      "metadata": {
        "id": "x8uDSBWJgWoE"
      },
      "source": [
        "## SOLVE THE MODEL"
      ]
    },
    {
      "cell_type": "code",
      "execution_count": null,
      "metadata": {
        "id": "p3I5JW5_gWoF"
      },
      "outputs": [],
      "source": [
        "solver = SolverFactory('glpk', executable = '/usr/bin/glpsol')\n",
        "results=solver.solve(model)\n",
        "model.solutions.load_from(results)"
      ]
    },
    {
      "cell_type": "markdown",
      "metadata": {
        "id": "8gn8htKegWoF"
      },
      "source": [
        "## PRINT RESULTS"
      ]
    },
    {
      "cell_type": "code",
      "execution_count": null,
      "metadata": {
        "colab": {
          "base_uri": "https://localhost:8080/"
        },
        "id": "OaURm02FgWoF",
        "outputId": "542a0e3c-c9d0-418e-bdb5-33c6756ee349"
      },
      "outputs": [
        {
          "output_type": "stream",
          "name": "stdout",
          "text": [
            "=== RESULTADOS DEL PROBLEMA ===\n",
            "- Número de switches (|S|): 10\n",
            "- Número de posibles ubicaciones (|P|): 10\n",
            "- Controladores instalados: 2\n",
            "- Enlaces entre controladores: 0\n",
            "- Enlaces switch-controlador: 10\n",
            "- Paquetes totales: 3673\n",
            "- Costo total: 2402.971587379343\n",
            "- Tiempo de CPU (s): 3.907163619995117\n",
            "\n"
          ]
        }
      ],
      "source": [
        "installed_controllers = [(c, p) for c in model.C for p in model.P if model.x[c,p].value == 1]\n",
        "num_controllers = len(installed_controllers)\n",
        "\n",
        "inter_links = [(p,q,l) for p in model.P for q in model.P for l in model.L if p<q and model.z[p,q,l].value == 1]\n",
        "switch_links = [(s,p,l) for s in model.S for p in model.P for l in model.L if model.v[s,p,l].value == 1]\n",
        "\n",
        "total_cost = model.Objective()\n",
        "total_packets = sum(model.sigma[s] for s in model.S)\n",
        "cpu_time = results.solver.time\n",
        "problem_number = 1\n",
        "\n",
        "data = {\n",
        "    'Problem': [problem_number],\n",
        "    '|S|': [len(model.S)],\n",
        "    '|P|': [len(model.P)],\n",
        "    'Installed_Controllers': [num_controllers],\n",
        "    'Inter-Controller Links': [len(inter_links)],\n",
        "    'Switch-Controller Links': [len(switch_links)],\n",
        "    'Total_Links': [len(inter_links) + len(switch_links)],\n",
        "    'Packets': [total_packets],\n",
        "    'Cost($)': [total_cost],\n",
        "    'CPU_Time(s)': [cpu_time]\n",
        "}\n",
        "\n",
        "df_results = pd.DataFrame(data)\n",
        "\n",
        "print(\"=== RESULTADOS DEL PROBLEMA ===\")\n",
        "print(f\"- Número de switches (|S|): {len(model.S)}\")\n",
        "print(f\"- Número de posibles ubicaciones (|P|): {len(model.P)}\")\n",
        "print(f\"- Controladores instalados: {num_controllers}\")\n",
        "print(f\"- Enlaces entre controladores: {len(inter_links)}\")\n",
        "print(f\"- Enlaces switch-controlador: {len(switch_links)}\")\n",
        "print(f\"- Paquetes totales: {total_packets}\")\n",
        "print(f\"- Costo total: {total_cost}\")\n",
        "print(f\"- Tiempo de CPU (s): {cpu_time}\")\n",
        "print()\n",
        "\n"
      ]
    },
    {
      "cell_type": "code",
      "execution_count": null,
      "metadata": {
        "id": "sMY4IOGTgWoH"
      },
      "outputs": [],
      "source": []
    }
  ],
  "metadata": {
    "kernelspec": {
      "display_name": "Python 3 (ipykernel)",
      "language": "python",
      "name": "python3"
    },
    "language_info": {
      "codemirror_mode": {
        "name": "ipython",
        "version": 3
      },
      "file_extension": ".py",
      "mimetype": "text/x-python",
      "name": "python",
      "nbconvert_exporter": "python",
      "pygments_lexer": "ipython3",
      "version": "3.12.6"
    },
    "colab": {
      "provenance": []
    }
  },
  "nbformat": 4,
  "nbformat_minor": 0
}