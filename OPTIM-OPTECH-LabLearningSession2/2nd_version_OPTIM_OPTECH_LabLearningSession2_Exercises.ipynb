{
  "cells": [
    {
      "cell_type": "markdown",
      "metadata": {
        "id": "pLunVFnU64p3"
      },
      "source": [
        "# <font color=blue>OPTIM/OPTECH Laboratory Learning Session II: </font>\n",
        "## <font color=blue>MIP OPTIMIZATION AND LINEARIZATION</font>\n",
        "\n",
        "### `MASTEAM`: Master's degree in Applied Telecommunications and Engineering Management\n",
        "### `MATT`: Master's degree in Advanced Telecommunication Technologies\n",
        "### `CoDaS`: Erasmus Mundus master's degree in Communications, Engineering and Data Science\n",
        "\n",
        "###  <font color=#922B21>Castelldefels School of Telecommunications and Aerospace Engineering (EETAC)</font>\n",
        "\n",
        "**<font color=teal>Cristina Cervelló-Pastor (cristina.cervello@upc.edu)</font>**"
      ]
    },
    {
      "cell_type": "markdown",
      "metadata": {
        "collapsed": true,
        "jupyter": {
          "outputs_hidden": true
        },
        "id": "gROZMoqS64p5"
      },
      "source": [
        "## <font color=blue><b>BASIS THEOREM</b></font>\n",
        "\n",
        "\n",
        "Consider a function defined in a domain $D\\subseteq\\mathbb{R}^n$ that has a maximum value M inside this domain. The following theorem holds:\n",
        "\n",
        "\n",
        "$\\boxed{\\begin{aligned}\n",
        "&\\mbox{Let } D\\subseteq\\mathbb{R}^n \\mbox{and } f:D \\rightarrow \\mathbb{R} \\mbox{, and let M be a nonzero real number such that }\\\\\n",
        "& M\\geq \\text{max} \\{f(x)|x\\in D\\}. \\\\\n",
        "&\\mbox{Then, for each } \\delta \\in\\{0,1\\} \\mbox{ and each } \\mathbf{x}\\in D \\mbox{ the following assertions (i) and (ii) are } \\underline{equivalent}:\\\\\n",
        "\\\\\n",
        "&\\mbox{(i) if } \\delta =0 \\mbox{ then } f(\\mathbf{x}) \\leq 0 \\qquad   (i.e. \\delta =0 \\Rightarrow f(\\mathbf{x}) \\leq 0)\\\\\n",
        "\\\\\n",
        "&\\mbox{(ii) } f(\\mathbf{x}) - M\\delta \\leq 0.\n",
        "\\end{aligned}}$\n",
        "\n",
        "Thus, we can substitute the implication (non-linearity) for the inequality constraint."
      ]
    },
    {
      "cell_type": "markdown",
      "metadata": {
        "id": "UcmDJ1HQ64p6"
      },
      "source": [
        "## <font color=green><b> REVISITING THE FACILITY LOCATION PROBLEM WITH NON-LINEARITIES</b></font>"
      ]
    },
    {
      "cell_type": "markdown",
      "metadata": {
        "id": "oS4xSU_g64p6"
      },
      "source": [
        "<b>Sensor Location Problem</b>\n",
        "\n",
        "<font color=blue><b>USE CASE:</b></font>  determine the location of a limited number of trafﬁc sensors on a highway network so as to obtain the best possible traffic data for the entire network. Thus, we wish to select the $p$ locations for the Weigh-In-Motion (WIM) sensors so as to achieve maximum diversity in the collected data for the entire network.\n"
      ]
    },
    {
      "cell_type": "markdown",
      "metadata": {
        "collapsed": true,
        "jupyter": {
          "outputs_hidden": true
        },
        "id": "-3yYOEkc64p7"
      },
      "source": [
        "### <font color=purple>Python functions to create  and plot the scenario</font>"
      ]
    },
    {
      "cell_type": "code",
      "execution_count": 57,
      "metadata": {
        "id": "2xmWo0HP64p8"
      },
      "outputs": [],
      "source": [
        "import random\n",
        "import math\n",
        "import matplotlib\n",
        "import matplotlib.pyplot as plt\n",
        "import numpy as np"
      ]
    },
    {
      "cell_type": "code",
      "source": [
        "!pip install Pyomo\n",
        "!apt-get install -y -qq glpk-utils"
      ],
      "metadata": {
        "colab": {
          "base_uri": "https://localhost:8080/"
        },
        "id": "TVlq_ofw7B9D",
        "outputId": "f27210ae-84a8-4628-c9f1-eef744683b73"
      },
      "execution_count": 58,
      "outputs": [
        {
          "output_type": "stream",
          "name": "stdout",
          "text": [
            "Requirement already satisfied: Pyomo in /usr/local/lib/python3.10/dist-packages (6.8.0)\n",
            "Requirement already satisfied: ply in /usr/local/lib/python3.10/dist-packages (from Pyomo) (3.11)\n"
          ]
        }
      ]
    },
    {
      "cell_type": "code",
      "execution_count": 59,
      "metadata": {
        "id": "gLIbAHI764p9"
      },
      "outputs": [],
      "source": [
        "######################################\n",
        "# Function to locate points randomly #\n",
        "######################################\n",
        "\n",
        "def Locate(w, h, number):\n",
        "    points_set = []\n",
        "    for i in range(number):\n",
        "        coords = [random.uniform(0,w-1), \\\n",
        "                  random.uniform(0,h-1)]\n",
        "        points_set.append(coords)\n",
        "    return points_set\n",
        "\n",
        "\n",
        "##########################################################\n",
        "# Function to calculate the distance between two sensors #\n",
        "##########################################################\n",
        "\n",
        "def Distance(p1, p2):\n",
        "    return round(math.sqrt((p2[0] - p1[0])**2 + (p2[1] - p1[1])**2),2)\n",
        "\n",
        "\n",
        "##########################################################\n",
        "# Function to plot WIM sensors Locations on a w x h area #\n",
        "##########################################################\n",
        "\n",
        "# Plot WIM sensors Locations on a w x h area\n",
        "\n",
        "def PlotArea(w,h,SensorsLocation, which, init):\n",
        "\n",
        "    fig = plt.figure()\n",
        "    ax = fig.add_subplot(1,1,1)\n",
        "    ax.tick_params(axis = 'both',  labelsize = 8)\n",
        "    ax.set_xticks(np.arange(0, w+1, 1))\n",
        "    ax.set_yticks(np.arange(0, h+1, 1))\n",
        "\n",
        "    ax.grid(visible=True, which='major',linewidth=1, color='gray', linestyle='--', alpha=0.7)\n",
        "\n",
        "    ax.set_xlim([0,w])\n",
        "    ax.set_ylim([0,h])\n",
        "\n",
        "    if which==[]:\n",
        "        if init: color='blue'\n",
        "        else: color='#ADD8E6'\n",
        "        FL = plt.scatter(*zip(*SensorsLocation),c=color, s=20)\n",
        "        listnum = list(range(1,len(SensorsLocation)+1))\n",
        "        for i in [i+1 for i,x in enumerate(SensorsLocation)]:\n",
        "            ax.annotate(str(i),(SensorsLocation[i-1][0]+0.02,SensorsLocation[i-1][1]+0.02),color=color,fontsize=10)\n",
        "    else:\n",
        "        color='#ADD8E6'\n",
        "        FL = plt.scatter(*zip(*SensorsLocation),c=color, s=20)\n",
        "        listnum = list(range(1,len(SensorsLocation)+1))\n",
        "        for i in [i+1 for i,x in enumerate(SensorsLocation)]:\n",
        "            ax.annotate(str(i),(SensorsLocation[i-1][0]+0.02,SensorsLocation[i-1][1]+0.02),color=color,fontsize=10)\n",
        "        color='blue'\n",
        "        FL = plt.scatter(*zip(*which),c=color, s=20)\n",
        "\n",
        "        for k in [SensorsLocation.index(x)+1 for x in which]:\n",
        "            ax.annotate(str(k),(SensorsLocation[k-1][0]+0.02,SensorsLocation[k-1][1]+0.02),color=color,fontsize=10)\n",
        "\n",
        "\n",
        "\n",
        "\n",
        "\n",
        "    plt.title('Potential Sensors Location')\n",
        "\n",
        "    plt.show()"
      ]
    },
    {
      "cell_type": "markdown",
      "metadata": {
        "id": "HEcYiD9764p-"
      },
      "source": [
        "### SCENARIO"
      ]
    },
    {
      "cell_type": "code",
      "execution_count": 60,
      "metadata": {
        "id": "m3NaYmXB64p-"
      },
      "outputs": [],
      "source": [
        "# Define the area\n",
        "w, h = 10, 10   # Km\n",
        "\n",
        "# Locate the sensors\n",
        "NumSensorsLoc = 10\n",
        "SensorsLocation = Locate(w, h, NumSensorsLoc)"
      ]
    },
    {
      "cell_type": "code",
      "execution_count": 61,
      "metadata": {
        "colab": {
          "base_uri": "https://localhost:8080/",
          "height": 448
        },
        "id": "VKpPxkUw64qA",
        "outputId": "e516bd83-7d97-407e-a9b2-8362bd052cb9"
      },
      "outputs": [
        {
          "output_type": "display_data",
          "data": {
            "text/plain": [
              "<Figure size 640x480 with 1 Axes>"
            ],
            "image/png": "[encoded data removed]"
          },
          "metadata": {}
        }
      ],
      "source": [
        "# Plot the area\n",
        "PlotArea(w,h,SensorsLocation,[],1)"
      ]
    },
    {
      "cell_type": "code",
      "execution_count": 62,
      "metadata": {
        "id": "6Ot71Kmr64qB"
      },
      "outputs": [],
      "source": [
        "# Compute distances between sensors\n",
        "DistSensors = {}\n",
        "for i in range(1,NumSensorsLoc+1):\n",
        "    for j in range(i+1,NumSensorsLoc+1):\n",
        "        DistSensors[(i,j)]= Distance(SensorsLocation[i-1], \\\n",
        "                                   SensorsLocation[j-1])"
      ]
    },
    {
      "cell_type": "markdown",
      "metadata": {
        "id": "9p1urnWA64qC"
      },
      "source": [
        "<font color=blue><b>SENSOR LOCATION PROBLEM</b></font>\n",
        "\n",
        "In the first solution we consider the problem of establishing $p$ sensors at some $n$ predefined locations so that the minimum separation distance between any pair of <b>selected</b> sensors is maximized. This is call the p-dispersion problem. Sensors should be as far away from the closest other sensors as possible.\n",
        "\n",
        "The basic constraints are:\n",
        "\n",
        "<ul>\n",
        "<li> The number of sensors located has to be equal to p.\n",
        "<li> The minimum distance between any pair of located sensors has to be maximized.\n",
        "</ul>\n",
        "\n",
        "\n",
        "#### Parameters: ####\n",
        "\n",
        "$J$ Set of potential location of sensors\n",
        "<br /> <br />\n",
        "$d_{j_1j_2}$ distance from sensor $j_1$ to sensor $j_2$\n",
        "<br /> <br />  \n",
        "$M$ a large constant, which is the maximum possible value of D (minimum separation distance between any pair of sensors) in our scenario\n",
        "<br /> <br />  \n",
        "\n",
        "#### Variables: ####\n",
        "$x_{j}$ binary variable, $x_{j}=1$ if sensor $j$ is located, 0 otherwise\n",
        "<br /> <br />\n",
        "$D$ minimum separation distance between any pair of sensors\n",
        "<br /> <br />\n",
        "\\begin{alignat*}{3}\n",
        "&\\\\\n",
        "\\mbox{maximize } &\\ \\ D  &&\\\\\n",
        "\\mbox{subject to: }&\\ \\  \\sum_{\\forall j\\in J} x_j = p\\quad&&  &&\\nonumber\\\\\n",
        "&\\ \\mbox{if }  x_{j1}=1 \\textbf{ AND }x_{j2}=1 \\Rightarrow d_{j_1j_2} \\geq D\\quad&&  \\forall j_1, j_2 \\in J\\ \\   |\\ \\ j_1 < j_2 &&\\nonumber\\\\\n",
        "&\\ \\  x_j\\mbox{binary} \\quad  \\forall j\\in J.&&\\nonumber\n",
        "\\end{alignat*}\n",
        "\n",
        "<br /> <br />\n",
        "The second constraint is <b>non-linear</b>:\n",
        "<ul>\n",
        "<li><b>Non-linear constraint:</b> Considering two sensors, $j1$ and $j2$, if both are located then the distance between them has to be greater than D.\n",
        "\n",
        "if $x_{j1}=1$ $\\textbf{ AND }$ $x_{j2}=1$ $\\Rightarrow$ $d_{j_1j_2}\\geq D$ $\\qquad \\forall j_1, j_2 \\in J\\ \\  \\text{ such that } \\ j1 < j2 $\n",
        "</ul>\n",
        "<br>"
      ]
    },
    {
      "cell_type": "markdown",
      "metadata": {
        "id": "6VAcirel64qC"
      },
      "source": [
        "### LINEARIZATION PROCEDURE\n",
        "\n",
        "\n",
        "### <font color=green><b>CONSTRAINT</b></font>\n",
        "\n",
        "To linearize the non-linear constraint:\n",
        "\n",
        "\n",
        "if $x_{j1}=1$ $\\textbf{ AND }$ $x_{j2}=1$ $\\Rightarrow$ $d_{j_1j_2}\\geq D$ $\\qquad \\forall j_1, j_2 \\in J\\ \\  \\text{ such that } \\ j1 < j2 $\n",
        "\n",
        "\n",
        "which is the same of:\n",
        "\n",
        "if $x_{j1}+x_{j2}=2$ $\\Rightarrow$ $d_{j_1j_2}\\geq D$ $\\qquad \\forall j_1, j_2 \\in J\\ \\  \\text{ such that } \\ j1 < j2 $\n",
        "\n",
        "Thus:\n",
        "\n",
        "if $(2-x_{j1}-x_{j2})=0$ $\\Rightarrow$ $D - d_{j_1j_2}\\leq 0$ $\\qquad \\forall j_1, j_2 \\in J\\ \\  \\text{ such that }  \\ j1 < j2 $\n",
        "\n",
        "<b>Applying the basis theorem, this is equivalent to</b>:\n",
        "\n",
        "$\\boxed{\\begin{aligned}D - d_{j_1j_2} - M\\cdot (2-x_{j1}-x_{j2}) \\leq 0\\end{aligned}}$$\\qquad\\forall j_1, j_2 \\in J\\ \\ \\text{ such that } \\ j1 < j2$\n",
        "\n",
        "being M the maximum value of $(D - d_{j_1j_2})$ in our scenario (i.e, maximum value of $D$). The constraint now is linear.\n"
      ]
    },
    {
      "cell_type": "markdown",
      "metadata": {
        "id": "x5BFatuN64qC"
      },
      "source": [
        "### MODEL 1"
      ]
    },
    {
      "cell_type": "code",
      "execution_count": 63,
      "metadata": {
        "id": "WkHkB1Cc64qD"
      },
      "outputs": [],
      "source": [
        "from pyomo.environ import *\n",
        "from pyomo.opt import SolverFactory\n",
        "from pyomo.core import Var"
      ]
    },
    {
      "cell_type": "code",
      "execution_count": 64,
      "metadata": {
        "id": "cXy-vtpE64qD"
      },
      "outputs": [],
      "source": [
        "######################\n",
        "## CREATE THE MODEL ##\n",
        "######################\n",
        "\n",
        "model = AbstractModel()\n",
        "\n",
        "######################\n",
        "## MODEL PARAMETERS ##\n",
        "######################\n",
        "\n",
        "# Set of potential sensors\n",
        "model.J = RangeSet(1,NumSensorsLoc)\n",
        "\n",
        "# Distance between sensors\n",
        "model.d = Param(model.J, model.J, initialize=DistSensors)\n",
        "\n",
        "# Number of sensors to locate\n",
        "model.p = Param(initialize=3)\n",
        "\n",
        "# Parameter for linearization purposes\n",
        "model.M = Param(initialize=20)\n",
        "\n",
        "\n",
        "#####################\n",
        "## MODEL VARIABLES ##\n",
        "#####################\n",
        "\n",
        "# x_{j} = 1 if sensor location j is selected, 0 otherwise\n",
        "model.x = Var(model.J, within=Binary, initialize=0)\n",
        "\n",
        "# Minimum distance between any pair of sensors\n",
        "model.D =  Var(within=NonNegativeReals, initialize=0)\n",
        "\n",
        "\n",
        "########################\n",
        "## OBJECTIVE FUNCTION ##\n",
        "########################\n",
        "\n",
        "# Maximize the distance between two closest sensors\n",
        "\n",
        "def Objective_rule(model):\n",
        "    return model.D\n",
        "\n",
        "model.Objective = Objective(rule=Objective_rule, sense=maximize)\n",
        "\n",
        "\n",
        "#################\n",
        "## CONSTRAINTS ##\n",
        "#################\n",
        "\n",
        "'''CONSTRAINT 1'''\n",
        "# Locate p sensors\n",
        "\n",
        "def Locatep_rule(model):\n",
        "    return sum(model.x[j] for j in model.J) == model.p\n",
        "\n",
        "model.Locatep = Constraint(rule=Locatep_rule)\n",
        "\n",
        "\n",
        "'''CONSTRAINT 2'''\n",
        "# D is the minimum distance between any pair of sensors\n",
        "def mindistance_rule(model, j1, j2):\n",
        "    if (j1 < j2):\n",
        "        return model.D - model.d[j1,j2] - model.M * (2-model.x[j1]-model.x[j2]) <=0\n",
        "    else:\n",
        "        return Constraint.Skip\n",
        "\n",
        "model.mindistance = Constraint(model.J, model.J, rule=mindistance_rule)"
      ]
    },
    {
      "cell_type": "markdown",
      "metadata": {
        "id": "Lm4nTMpC64qD"
      },
      "source": [
        "#### SOLVE THE MODEL AND GET THE RESULTS"
      ]
    },
    {
      "cell_type": "code",
      "execution_count": 65,
      "metadata": {
        "id": "lHjty41Y64qD"
      },
      "outputs": [],
      "source": [
        "# Construct model and pass it to an (external) solver (GLPK)\n",
        "opt = SolverFactory('glpk', executable = '/usr/bin/glpsol')\n",
        "instance = model.create_instance()\n",
        "results = opt.solve(instance)"
      ]
    },
    {
      "cell_type": "code",
      "execution_count": 66,
      "metadata": {
        "colab": {
          "base_uri": "https://localhost:8080/",
          "height": 502
        },
        "id": "aaefuV6564qE",
        "outputId": "6207c253-94fa-4330-d402-030d649fc53d"
      },
      "outputs": [
        {
          "output_type": "stream",
          "name": "stdout",
          "text": [
            "Min distance between sensors:  6.26\n",
            "Sensors Located: 3,6,9,\n",
            "\n"
          ]
        },
        {
          "output_type": "display_data",
          "data": {
            "text/plain": [
              "<Figure size 640x480 with 1 Axes>"
            ],
            "image/png": "[encoded data removed]"
          },
          "metadata": {}
        }
      ],
      "source": [
        "# Print the results\n",
        "print(\"Min distance between sensors: \", instance.D.value)\n",
        "print(\"Sensors Located: \",end='')\n",
        "\n",
        "SensorsLocated=[]\n",
        "for j in range(1, NumSensorsLoc+1):\n",
        "    if (instance.x[j].value==0): continue\n",
        "    else:\n",
        "        print(j, \",\",end='', sep=\"\")\n",
        "        SensorsLocated.append(SensorsLocation[j-1])\n",
        "print('\\n')\n",
        "\n",
        "PlotArea(w,h,SensorsLocation,SensorsLocated,0)"
      ]
    },
    {
      "cell_type": "markdown",
      "metadata": {
        "id": "CnIJ06TI64qE"
      },
      "source": [
        "### <font color=blue><b>EXERCISE 1</b></font>.-\n",
        "#### Run the p-dispersion problem model and explain the obtained result."
      ]
    },
    {
      "cell_type": "code",
      "execution_count": 67,
      "metadata": {
        "colab": {
          "base_uri": "https://localhost:8080/",
          "height": 35
        },
        "id": "pyNXP2Zu64qE",
        "outputId": "4feab3f8-5505-4450-f321-e079f9a5e70b"
      },
      "outputs": [
        {
          "output_type": "execute_result",
          "data": {
            "text/plain": [
              "'The p-dispersion problem returns the location of sensors and the minimimum distance of the sensors(maximized)'"
            ],
            "application/vnd.google.colaboratory.intrinsic+json": {
              "type": "string"
            }
          },
          "metadata": {},
          "execution_count": 67
        }
      ],
      "source": [
        "'''The p-dispersion problem returns the location of sensors and the minimimum distance of the sensors(maximized)'''"
      ]
    },
    {
      "cell_type": "markdown",
      "metadata": {
        "id": "V9PsoZXR64qE"
      },
      "source": [
        "### <font color=blue><b>EXERCISE 2</b></font>.-\n",
        "#### Consider the following alternative problem. Formulate and solve it. Compare the results with the previous case, for different values of D.\n",
        "\n",
        "Now we consider a minimum dissimilarity (distance), denoted by a <b>parameter</b> $D$ and we allow a pair of locations to be selected for sensor placement only if their corresponding traffic dissimilarity is at least $D$. Within this threshold, we maximize the number of sensor-locations selected.\n",
        "<br />\n",
        "\\begin{alignat*}{3}\n",
        "&\\\\\n",
        "\\mbox{maximize } &\\ \\sum_{\\forall j\\in J} x_j  &&\\\\\n",
        "\\mbox{subject to: }&\\ \\  x_{j_1} + x_{j_2} \\leq 1&&\\qquad \\forall j_1, j_2 \\in J,\\ \\ j_1 < j_2\\ \\  \\text{such that }\\ \\ d_{j_1j_2}<D   &&\\nonumber\\\\\n",
        "&\\ \\  x_j\\mbox{binary} &&\\qquad  \\forall j\\in J.&&\\nonumber\n",
        "\\end{alignat*}\n",
        "<br />\n",
        "<br />\n",
        "Now, due to the logical condition ($d_{j_1j_2}<D$) is defined with parameters (instead of variables), the constraint is linear and could be formulated without needing any linearization procedure.\n",
        "\n",
        "```python\n",
        "def mindistance_rule(model, j1, j2):\n",
        "    if (j1 < j2):\n",
        "        if (model.d[j1,j2] < model.D):\n",
        "            return 1-model.x[j1]-model.x[j2] >=0\n",
        "        else:\n",
        "            return Constraint.Skip\n",
        "    else:\n",
        "        return Constraint.Skip\n",
        "```"
      ]
    },
    {
      "cell_type": "code",
      "execution_count": 68,
      "metadata": {
        "id": "slOp2zrn64qE"
      },
      "outputs": [],
      "source": [
        "from pyomo.environ import *\n",
        "\n",
        "######################\n",
        "## CREATE THE MODEL ##\n",
        "######################\n",
        "\n",
        "model = AbstractModel()\n",
        "\n",
        "######################\n",
        "## MODEL PARAMETERS ##\n",
        "######################\n",
        "\n",
        "# Set of potential sensors\n",
        "model.J = RangeSet(1, NumSensorsLoc)\n",
        "\n",
        "# Distance (dissimilarity) between sensors\n",
        "model.d = Param(model.J, model.J, initialize=DistSensors)\n",
        "\n",
        "# Minimum dissimilarity threshold\n",
        "model.D = Param(initialize=5)\n",
        "\n",
        "model.x = Var(model.J, within=Binary, initialize=0)\n",
        "\n",
        "########################\n",
        "## OBJECTIVE FUNCTION ##\n",
        "########################\n",
        "\n",
        "# Maximize the number of selected sensor locations\n",
        "def Objective_rule(model):\n",
        "    return sum(model.x[j] for j in model.J)\n",
        "\n",
        "model.Objective = Objective(rule=Objective_rule, sense=maximize)\n",
        "\n",
        "#################\n",
        "## CONSTRAINTS ##\n",
        "#################\n",
        "\n",
        "def mindistance_rule(model, j1, j2):\n",
        "    if j1 < j2:\n",
        "        if model.d[j1, j2] < model.D:\n",
        "            return model.x[j1] + model.x[j2] <= 1\n",
        "        else:\n",
        "            return Constraint.Skip\n",
        "    else:\n",
        "        return Constraint.Skip\n",
        "\n",
        "model.mindistance = Constraint(model.J, model.J, rule=mindistance_rule)"
      ]
    },
    {
      "cell_type": "code",
      "source": [
        "opt = SolverFactory('glpk', executable='/usr/bin/glpsol')\n",
        "instance = model.create_instance()\n",
        "results = opt.solve(instance)"
      ],
      "metadata": {
        "id": "ezhxKdAKD4j0"
      },
      "execution_count": 69,
      "outputs": []
    },
    {
      "cell_type": "code",
      "source": [
        "print(\"Number of sensors located: \", sum(instance.x[j].value for j in instance.J))\n",
        "print(\"Sensors Located: \", end='')\n",
        "for j in range(1, NumSensorsLoc + 1):\n",
        "    if instance.x[j].value == 1:\n",
        "        print(j, \",\", sep=\"\", end=\"\")\n",
        "print('\\n')"
      ],
      "metadata": {
        "colab": {
          "base_uri": "https://localhost:8080/"
        },
        "id": "frZSfy_sD7b9",
        "outputId": "91b7742c-99af-47a1-d341-e810ec53d269"
      },
      "execution_count": 70,
      "outputs": [
        {
          "output_type": "stream",
          "name": "stdout",
          "text": [
            "Number of sensors located:  3.0\n",
            "Sensors Located: 3,6,9,\n",
            "\n"
          ]
        }
      ]
    },
    {
      "cell_type": "markdown",
      "source": [
        "\n",
        "\n",
        "1.   For D=0,\n",
        "Number of sensors located:  10.0\n",
        "Sensors Located: 1,2,3,4,5,6,7,8,9,10,\n",
        "2.   For D=1,\n",
        "Number of sensors located:  9.0\n",
        "Sensors Located: 1,2,3,4,5,6,7,8,10,\n",
        "3.   For D=5,\n",
        "Number of sensors located:  3.0\n",
        "Sensors Located: 1,4,10,\n",
        "3.   For D=50,\n",
        "Number of sensors located:  1.0\n",
        "Sensors Located: 2,\n",
        "\n",
        "\n",
        "So, for different values of D, the number of sensor locations vary."
      ],
      "metadata": {
        "id": "SPmUtE1DESP2"
      }
    },
    {
      "cell_type": "markdown",
      "metadata": {
        "id": "6q66IFd964qE"
      },
      "source": [
        "## <font color=green><b> NON-CONVEX feasible area </b></font>"
      ]
    },
    {
      "cell_type": "markdown",
      "metadata": {
        "id": "IbqbOAeV64qG"
      },
      "source": [
        "### <font color=blue><b>EXERCISE 3</b></font>.-\n",
        "#### Consider the non-convex feasible region ABEFG0 of the following figure bounded by straight lines. Such region is considered as made up of the union of the two convex regions ABC0 and DFG0, defined by the following constraints:\n",
        "\n",
        "\n",
        "| REGION|CONSTRAINTS |\n",
        "| :- | -------------------------- |\n",
        "| ABC0 | $\\quad$$y\\leq 3$ $\\quad$ $x + y \\leq 4$|\n",
        "| DFG0 | $y \\leq 1$ $\\quad$ $x \\leq 5$$\\quad$|\n"
      ]
    },
    {
      "cell_type": "code",
      "execution_count": 71,
      "metadata": {
        "colab": {
          "base_uri": "https://localhost:8080/",
          "height": 220
        },
        "id": "gdglWUk364qG",
        "outputId": "e0df49f5-fa3a-423b-da39-bed89a894917"
      },
      "outputs": [
        {
          "output_type": "execute_result",
          "data": {
            "image/png": "[encoded data removed]",
            "text/plain": [
              "<IPython.core.display.Image object>"
            ]
          },
          "metadata": {},
          "execution_count": 71
        }
      ],
      "source": [
        "from IPython.display import Image\n",
        "Image(filename='./NonConvexRegion.png')"
      ]
    },
    {
      "cell_type": "markdown",
      "metadata": {
        "id": "beD9ravv64qG"
      },
      "source": [
        "#### Determine what constraints do we have to include in a LP to define this region. Test the solution modeling the problem of maximizing the simple function f(x,y)=x+y inside this feasible region\n",
        "\\begin{alignat*}{3}\n",
        "&\\\\\n",
        "\\mbox{maximize } &\\ \\  x + y &&\\\\\n",
        "\\mbox{subject to: }&\\ x, y \\in  \\mbox{region ABEFG0} &&\\nonumber\\\\\n",
        "&\\ \\  x, y\\mbox{ real}.&&\\nonumber\n",
        "\\end{alignat*}\n",
        "<br /> <br />\n",
        "<b>Note</b>: due to x and y take real bounded values, the definition in Pyomo is as follows:\n",
        "\n",
        "```python\n",
        "model.x=Var(within=NonNegativeReals, bounds=(0,5), initialize=0)\n",
        "model.y=Var(within=NonNegativeReals, bounds=(0,3), initialize=0)\n",
        "```\n",
        "\n",
        "#### Print the resulting values of your model and explain their meaning\n"
      ]
    },
    {
      "cell_type": "code",
      "execution_count": 72,
      "metadata": {
        "colab": {
          "base_uri": "https://localhost:8080/"
        },
        "id": "8hueIfdQ64qG",
        "outputId": "3ee25cc5-ac4c-4bf5-aced-76550d4a5110"
      },
      "outputs": [
        {
          "output_type": "stream",
          "name": "stdout",
          "text": [
            "Optimal x: 5.0\n",
            "Optimal y: 1.0\n",
            "Optimal objective (x + y): 6.0\n"
          ]
        }
      ],
      "source": [
        "from pyomo.environ import *\n",
        "\n",
        "# Create the model\n",
        "model = ConcreteModel()\n",
        "\n",
        "# Define the continuous variables (x and y)\n",
        "model.x = Var(within=NonNegativeReals, bounds=(0, 5), initialize=0)\n",
        "model.y = Var(within=NonNegativeReals, bounds=(0, 3), initialize=0)\n",
        "model.delta1 = Var(within=Binary, initialize=0)\n",
        "model.delta2 = Var(within=Binary, initialize=0)\n",
        "\n",
        "# Objective function: maximize f(x, y) = x + y\n",
        "def objective_rule(model):\n",
        "    return model.x + model.y\n",
        "model.objective = Objective(rule=objective_rule, sense=maximize)\n",
        "\n",
        "#Constrains---------------------------\n",
        "\n",
        "#1\n",
        "def constraint1_rule(model):\n",
        "    return model.x + model.y <= 8- 4*model.delta1\n",
        "model.constraint1 = Constraint(rule=constraint1_rule)\n",
        "\n",
        "#2\n",
        "def constraint2_rule(model):\n",
        "    return model.y <= 3 - 2*model.delta2\n",
        "model.constraint2 = Constraint(rule=constraint2_rule)\n",
        "\n",
        "#3\n",
        "def constraint3_rule(model):\n",
        "    return model.delta1 + model.delta2 >= 1\n",
        "model.constraint3 = Constraint(rule=constraint3_rule)\n",
        "\n",
        "# Solve the model\n",
        "opt = SolverFactory('glpk', executable = '/usr/bin/glpsol')\n",
        "results = opt.solve(model)\n",
        "\n",
        "# Print the results\n",
        "print(\"Optimal x:\", model.x())\n",
        "print(\"Optimal y:\", model.y())\n",
        "print(\"Optimal objective (x + y):\", model.x() + model.y())\n"
      ]
    }
  ],
  "metadata": {
    "kernelspec": {
      "display_name": "Python 3 (ipykernel)",
      "language": "python",
      "name": "python3"
    },
    "language_info": {
      "codemirror_mode": {
        "name": "ipython",
        "version": 3
      },
      "file_extension": ".py",
      "mimetype": "text/x-python",
      "name": "python",
      "nbconvert_exporter": "python",
      "pygments_lexer": "ipython3",
      "version": "3.10.12"
    },
    "colab": {
      "provenance": []
    }
  },
  "nbformat": 4,
  "nbformat_minor": 0
}